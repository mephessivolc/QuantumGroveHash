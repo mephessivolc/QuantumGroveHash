{
 "cells": [
  {
   "cell_type": "code",
   "execution_count": null,
   "id": "2f604672",
   "metadata": {},
   "outputs": [],
   "source": [
    "from qiskit import QuantumCircuit\n",
    "from qiskit.tools.visualization import circuit_drawer\n",
    "from qiskit.visualization import plot_histogram\n",
    "from qiskit import transpile\n",
    "from qiskit.providers.aer import AerSimulator\n",
    "\n",
    "import math"
   ]
  },
  {
   "cell_type": "code",
   "execution_count": null,
   "id": "b9121206",
   "metadata": {},
   "outputs": [],
   "source": [
    "# definindo quantidade de qbits a serem utilizados\n",
    "n = 3\n",
    "N = math.pow(2,n)\n",
    "t = int((math.pi/4)*math.sqrt(N))"
   ]
  },
  {
   "cell_type": "code",
   "execution_count": null,
   "id": "06b50d1c",
   "metadata": {},
   "outputs": [],
   "source": [
    "# criando todos os estados possiveis\n",
    "samples = []\n",
    "for i in range(int(N)):\n",
    "    samples.append(bin(i)[2:].zfill(n)) # transformar numero no equivalente binario\n",
    "\n",
    "# samples # exibir todas os estados"
   ]
  },
  {
   "cell_type": "code",
   "execution_count": null,
   "id": "697553e6",
   "metadata": {},
   "outputs": [],
   "source": [
    "# inicializando o circuito\n",
    "qc = QuantumCircuit(n, n) # circuito de n qbit com n registradores classicos"
   ]
  },
  {
   "cell_type": "code",
   "execution_count": null,
   "id": "4153c70f",
   "metadata": {},
   "outputs": [],
   "source": [
    "# inserindo porta de Hadamard\n",
    "qc.h(range(n))"
   ]
  },
  {
   "cell_type": "code",
   "execution_count": null,
   "id": "fd00d83e",
   "metadata": {},
   "outputs": [],
   "source": [
    "# definindo a construção da função oráculo\n",
    "def create_oracle():\n",
    "    n_samples = list(range(n))\n",
    "    make_oracle = []\n",
    "    for i in samples:\n",
    "        tmp = []\n",
    "        for j in range(len(i)):\n",
    "            if i[j] == \"0\":\n",
    "                tmp.append(n_samples[j])\n",
    "        make_oracle.append(tmp)\n",
    "    # print(make_oracle)\n",
    "\n",
    "    for i in make_oracle:\n",
    "        qc.barrier()\n",
    "        if i:\n",
    "            qc.x(i)\n",
    "        qc.cz(n-1, range(n-1))\n",
    "        if i:\n",
    "            qc.x(i)"
   ]
  },
  {
   "cell_type": "code",
   "execution_count": null,
   "id": "8788b823",
   "metadata": {},
   "outputs": [],
   "source": [
    "def create_diffuser():\n",
    "    qc.barrier()\n",
    "    qc.h(range(n))\n",
    "    qc.x(range(n))\n",
    "    qc.cz(n-1, range(n-1))\n",
    "    qc.x(range(n))\n",
    "    qc.h(range(n))"
   ]
  },
  {
   "cell_type": "code",
   "execution_count": null,
   "id": "93c01f71",
   "metadata": {},
   "outputs": [],
   "source": [
    "# executando a função oráculo\n",
    "create_oracle()\n"
   ]
  },
  {
   "cell_type": "code",
   "execution_count": null,
   "id": "8219d006",
   "metadata": {},
   "outputs": [],
   "source": [
    "create_diffuser()"
   ]
  },
  {
   "cell_type": "code",
   "execution_count": null,
   "id": "403d8fe3",
   "metadata": {},
   "outputs": [],
   "source": [
    "# criando o circuito para o algoritmo de Grover\n",
    "for i in range(t):\n",
    "    create_oracle()\n",
    "    create_diffuser()\n",
    "    qc.barrier()\n",
    "    \n",
    "qc.barrier()\n",
    "qc.measure(range(n), range(n))"
   ]
  },
  {
   "cell_type": "code",
   "execution_count": null,
   "id": "370a4406",
   "metadata": {},
   "outputs": [],
   "source": [
    "# imagem do circuito quântico \n",
    "qc.draw(output='mpl')"
   ]
  },
  {
   "cell_type": "code",
   "execution_count": null,
   "id": "c3e0fd97",
   "metadata": {},
   "outputs": [],
   "source": [
    "backend = AerSimulator()\n",
    "qc_compiled = transpile(qc, backend)\n",
    "\n",
    "job_sim = backend.run(qc_compiled, shots=1024)\n",
    "result_sim = job_sim.result()\n",
    "\n",
    "counts = result_sim.get_counts(qc_compiled)\n",
    "plot_histogram(counts)"
   ]
  },
  {
   "cell_type": "code",
   "execution_count": null,
   "id": "b7be31e8",
   "metadata": {},
   "outputs": [],
   "source": [
    "print(counts)\n",
    "for i in counts:\n",
    "    counts[i] = (counts[i]/1024)*100\n",
    "counts"
   ]
  },
  {
   "cell_type": "code",
   "execution_count": null,
   "id": "cf0efb6b",
   "metadata": {},
   "outputs": [],
   "source": [
    "plot_histogram(counts)"
   ]
  },
  {
   "cell_type": "code",
   "execution_count": null,
   "id": "73a8662c",
   "metadata": {},
   "outputs": [],
   "source": []
  }
 ],
 "metadata": {
  "kernelspec": {
   "display_name": "Python 3 (ipykernel)",
   "language": "python",
   "name": "python3"
  },
  "language_info": {
   "codemirror_mode": {
    "name": "ipython",
    "version": 3
   },
   "file_extension": ".py",
   "mimetype": "text/x-python",
   "name": "python",
   "nbconvert_exporter": "python",
   "pygments_lexer": "ipython3",
   "version": "3.10.6"
  }
 },
 "nbformat": 4,
 "nbformat_minor": 5
}
